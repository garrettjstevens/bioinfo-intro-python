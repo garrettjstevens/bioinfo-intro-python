{
 "cells": [
  {
   "cell_type": "markdown",
   "metadata": {
    "nbpresent": {
     "id": "dfdc94f4-6768-4140-8109-8ac2e61fcdf4"
    },
    "slideshow": {
     "slide_type": "slide"
    }
   },
   "source": [
    "# The Source Code of Life: Using Python to Explore Our DNA\n",
    "![xkcd_dna](images/dna.png)\n",
    "Researchers just found the gene responsible for mistakenly thinking we've found the gene for specific things. It's the region between the start and the end of every chromosome, plus a few segments in our mitochondria."
   ]
  },
  {
   "cell_type": "markdown",
   "metadata": {
    "nbpresent": {
     "id": "b0746739-b0f7-4130-8773-2024b6d8858e"
    },
    "slideshow": {
     "slide_type": "notes"
    }
   },
   "source": [
    "Every good presentation starts with XKCD, right?"
   ]
  },
  {
   "cell_type": "markdown",
   "metadata": {
    "collapsed": false,
    "slideshow": {
     "slide_type": "slide"
    }
   },
   "source": [
    "## Bioinformatics\n",
    "![dna_code](images/dna_code.jpg)\n",
    "Image: http://www.sciencemag.org/sites/default/files/styles/article_main_large/public/images/13%20June%202014.jpg?itok=DPBy5nLZ"
   ]
  },
  {
   "cell_type": "markdown",
   "metadata": {
    "nbpresent": {
     "id": "e4dc1f84-5612-4ef5-a45c-35f46c51c136"
    },
    "slideshow": {
     "slide_type": "notes"
    }
   },
   "source": [
    "Today we're going to talk about part off the wonderful field of study known as bioinformatics."
   ]
  }
 ],
 "metadata": {
  "anaconda-cloud": {},
  "celltoolbar": "Slideshow",
  "kernelspec": {
   "display_name": "Python [conda env:py35]",
   "language": "python",
   "name": "conda-env-py35-py"
  },
  "language_info": {
   "codemirror_mode": {
    "name": "ipython",
    "version": 3
   },
   "file_extension": ".py",
   "mimetype": "text/x-python",
   "name": "python",
   "nbconvert_exporter": "python",
   "pygments_lexer": "ipython3",
   "version": "3.5.2"
  },
  "nbpresent": {
   "slides": {
    "1a878cd3-6859-42a9-acfa-b96c07fa65f7": {
     "id": "1a878cd3-6859-42a9-acfa-b96c07fa65f7",
     "prev": null,
     "regions": {
      "3d4268fa-250f-4344-9516-ff77f4ec0e46": {
       "attrs": {
        "height": 0.4,
        "width": 0.8,
        "x": 0.1,
        "y": 0.5
       },
       "content": {
        "cell": "b0746739-b0f7-4130-8773-2024b6d8858e",
        "part": "whole"
       },
       "id": "3d4268fa-250f-4344-9516-ff77f4ec0e46"
      },
      "867408ce-ca40-4626-97bb-e8a421eadcb8": {
       "attrs": {
        "height": 0.8,
        "width": 0.8,
        "x": 0.1,
        "y": 0.1
       },
       "content": {
        "cell": "dfdc94f4-6768-4140-8109-8ac2e61fcdf4",
        "part": "whole"
       },
       "id": "867408ce-ca40-4626-97bb-e8a421eadcb8"
      },
      "c2dbf2de-6e36-4683-a5ea-dc1cf471d6f2": {
       "attrs": {
        "height": 0.4,
        "width": 0.8,
        "x": 0.1,
        "y": 0.5
       },
       "content": {
        "cell": "2df25111-1de8-447f-b03a-361cc5c97373",
        "part": "whole"
       },
       "id": "c2dbf2de-6e36-4683-a5ea-dc1cf471d6f2"
      }
     }
    },
    "7fd1644c-8a23-4211-8e4e-6b0a84e6198a": {
     "id": "7fd1644c-8a23-4211-8e4e-6b0a84e6198a",
     "prev": "1a878cd3-6859-42a9-acfa-b96c07fa65f7",
     "regions": {
      "3223a531-ef8f-4311-a064-50ac87f65594": {
       "attrs": {
        "height": 0.8,
        "width": 0.8,
        "x": 0.1,
        "y": 0.1
       },
       "content": {
        "cell": "e4dc1f84-5612-4ef5-a45c-35f46c51c136",
        "part": "whole"
       },
       "id": "3223a531-ef8f-4311-a064-50ac87f65594"
      }
     }
    }
   },
   "themes": {
    "default": "1629dac1-1f53-4f1b-8318-e8aaea63fd7a",
    "theme": {}
   }
  }
 },
 "nbformat": 4,
 "nbformat_minor": 1
}
