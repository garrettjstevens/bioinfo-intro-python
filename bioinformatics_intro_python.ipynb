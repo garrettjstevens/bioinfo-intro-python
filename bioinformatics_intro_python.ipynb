{
 "cells": [
  {
   "cell_type": "code",
   "execution_count": 1,
   "metadata": {
    "collapsed": true,
    "slideshow": {
     "slide_type": "skip"
    }
   },
   "outputs": [],
   "source": [
    "%matplotlib inline\n",
    "\n",
    "from pprint import pprint\n",
    "import random\n",
    "\n",
    "import numpy as np\n",
    "import matplotlib.pyplot as plt\n",
    "from IPython.display import YouTubeVideo"
   ]
  },
  {
   "cell_type": "markdown",
   "metadata": {
    "nbpresent": {
     "id": "dfdc94f4-6768-4140-8109-8ac2e61fcdf4"
    },
    "slideshow": {
     "slide_type": "slide"
    }
   },
   "source": [
    "# The Source Code of Life: Using Python to Explore Our DNA\n",
    "![xkcd_dna](images/dna.png)\n",
    "Researchers just found the gene responsible for mistakenly thinking we've found the gene for specific things. It's the region between the start and the end of every chromosome, plus a few segments in our mitochondria."
   ]
  },
  {
   "cell_type": "markdown",
   "metadata": {
    "nbpresent": {
     "id": "b0746739-b0f7-4130-8773-2024b6d8858e"
    },
    "slideshow": {
     "slide_type": "notes"
    }
   },
   "source": [
    "Every good presentation starts with xkcd, right?"
   ]
  },
  {
   "cell_type": "markdown",
   "metadata": {
    "slideshow": {
     "slide_type": "slide"
    }
   },
   "source": [
    "## Bioinformatics\n",
    "HINT: If you're viewing this notebook as slides, press the \"s\" key to see a bunch of extra notes.\n",
    "![dna_code](images/dna_code.jpg)\n",
    "Image: http://www.sciencemag.org/sites/default/files/styles/article_main_large/public/images/13%20June%202014.jpg?itok=DPBy5nLZ"
   ]
  },
  {
   "cell_type": "markdown",
   "metadata": {
    "nbpresent": {
     "id": "e4dc1f84-5612-4ef5-a45c-35f46c51c136"
    },
    "slideshow": {
     "slide_type": "notes"
    }
   },
   "source": [
    "Today we're going to talk about part off the wonderful field of study known as bioinformatics. What is bioinformatics? According to [Wikipedia](https://en.wikipedia.org/wiki/Bioinformatics), its \"an interdisciplinary field that develops methods and software tools for understanding biological data.\" Here's another definition that more fits my experiences: \"The mathematical, statistical and computing methods that aim to solve biological problems using DNA and amino acid sequences and related information.\" ([Fredj Tekaia](http://slideplayer.com/slide/4800050/), Institut Pasteur)"
   ]
  },
  {
   "cell_type": "markdown",
   "metadata": {
    "slideshow": {
     "slide_type": "slide"
    }
   },
   "source": [
    "## What is DNA?\n",
    "A long string of A, C, G, and T (bases)"
   ]
  },
  {
   "cell_type": "markdown",
   "metadata": {
    "slideshow": {
     "slide_type": "fragment"
    }
   },
   "source": [
    "    ACGTTCATGG           <- Ten bases\n",
    "\n",
    "    ACGTTCATGGATGTGACCAG <- Twenty bases\n",
    "\n",
    "    etc..."
   ]
  },
  {
   "cell_type": "markdown",
   "metadata": {
    "slideshow": {
     "slide_type": "notes"
    }
   },
   "source": [
    "So what is it about biology that needs such computationally intensive stuff? I thought biology was a \"squishy\" science? Well guess what, nature has been playing with big data long before it became the buzzword it is now. Let's start by talking about DNA. DNA is your \"source code,\" but we'll get to more about how that works in a minute. First we're just going to talk about what it is. It's a string of four different types of molecules with long names that we're not going to worry about right now, so we'll just call them by their abbreviations (which is what everyone uses most of the time anyway): `A`, `C`, `G`, and `T`. And instead of molecules, we'll call them bases, because reasons. So if you have just an `A`, that's one base, or if you have `ACGTTCATGG`, that is ten bases."
   ]
  },
  {
   "cell_type": "markdown",
   "metadata": {
    "slideshow": {
     "slide_type": "fragment"
    }
   },
   "source": [
    "Well, not really a string...\n",
    "<img src=\"images/double_helix.jpg\" alt=\"Double helix\" style=\"width: 200px;\"/>\n",
    "Two strings stuck together? But if you know one you know the other..."
   ]
  },
  {
   "cell_type": "markdown",
   "metadata": {
    "slideshow": {
     "slide_type": "notes"
    }
   },
   "source": [
    "Ok, when I said it was a string that was a bit of a simplification, it's actually two strings stuck together. That's why pictures of DNA look like a twisted ladder (that's the \"double helix\" you may hear about): each side of the ladder is a string, and the \"rungs\" are where they stick together. But the nice thing is, each base has only one other base it can stick to. `A` always sticks to `T` and vice versa, same with `C` and `G`. So if you know that one side of the ladder is `ACGTTCATGG`, then we know the other side is `TGCAAGTACC`. This is really nice because it cuts the amount of information we actually have to know in half."
   ]
  },
  {
   "cell_type": "markdown",
   "metadata": {
    "slideshow": {
     "slide_type": "slide"
    }
   },
   "source": [
    "## The Human Genome\n",
    "It's big. How big?"
   ]
  },
  {
   "cell_type": "markdown",
   "metadata": {
    "slideshow": {
     "slide_type": "notes"
    }
   },
   "source": [
    "So now that you know everything (just kidding) about DNA, it's time for a question: How many bases long would you guess the human genome (fancy word for all the DNA) is? It ends up being about 3.2 billion base pairs long. (Remember the double helix? That's why it's _pairs_)"
   ]
  },
  {
   "cell_type": "markdown",
   "metadata": {
    "slideshow": {
     "slide_type": "subslide"
    }
   },
   "source": [
    "About 3,200,000,000bp (bp is base pairs). Actual file format commonly used in bioinformatics (FASTA):\n",
    "\n",
    "```\n",
    ">Sequence0\n",
    "TTTCTGACTAACACTACAATTACCACTTGATGTTACCGACTAAGTGGTACGACTTGCTAGAACCGACTCTCGTACGTAT\n",
    "CGCAGACTAGTGCGCGCGCTTAGTGACTATACTAGAATATACCTGGGGCCCAAGGAGTGTCGGGCGATCGTCCTTGAAA\n",
    "TAAATATCTCAACCATCGTCATCTAGGGGGAACAGAGCGGTGGGCAGGTCCCAACCTGTTTATTTGTGTTGCTAACACT\n",
    "ACGGCGCAGCTGCTCAAGTAGGTGCGATTATCGAGTAGAGGCTCCACCGGCTCTATGTGCCACGCATCTACTGAACCGA\n",
    "ATTCTATCCCTGATACTCCAGAAGGTCGCAGGTTTACAGACACGTTTCAGCTCGAGAGGCCATCGATTATCTTAATATA\n",
    "CCACACTGCCGAATAGCATGCCCGTAGAATCCAAGCCACGAGATAGCGTTACTTAATGAGTACCCAACGCAAATGAGGT\n",
    "TGATTATCCCTAACCTGCAATCTAGGCCTTGTTCTGGAGGGGGTTATCCTTTATAGTTGATTACTTACACTCACCATGT\n",
    "TCGTAGTCGGAACTCACCGATTAAGACCGATTTTACTATGGGAAGGCCAGGTTACACCTGTTTCGGGGGGGCCGCGGCG\n",
    "GGTTACTTTAACCTGTCCATCCATCAGTCACTGGGCGCCAAGATTCTCCTATAGTTATATCCGCCCTTTGATTTAAACC\n",
    "TAGGCCTACCTCAACGAACTGGGCCATGGGGTTCACACAGAAACAAGGGGGATAGACAGTCTTATTGAGCGCTTCTGAA\n",
    "CAGCGTGTGTTCACGGTACGGCAATACCACCAGTAAACCGAGAACAGTGTTGAAGGTGATCGAACACGTGTTTTCTTCA\n",
    "CCGTAGGGCTTCTAGGGAGTATCGCCCCCATATAGGCAGACGAGAAGGACTGTCACGCGCGGAGATCGATAATACGTAT\n",
    "AACACAAGCACAGTAACTGCCCCGACCGGCTAAAGGACGTGGCCCAGTGTACCCAACGTACGTAATTGCAAGAGGTCTG\n",
    "TCTGTCATCCCGAGGACTGCTTCTATAACTCGTTGAGGGCACTAGGCTTGAGACAATCAGCTTCGCTCGTCACGATTTT\n",
    "ACTTTTTTCCTGGAAAAGCCCCCCCACAGACTATCAGGTCGCGCTTACCATACCAGTCCTTCTTGATAAGCCAATCCGT\n",
    "ATTAGGTAGATTAAGCTGACAGTCGGGGCGACTCTTTGGAAACAGTATTCCCGTTTCGGGCACCTAGGATTCAGGCTTG\n",
    "TACAACGATCATAGACGTCGCGGAAAGAAATAGCACAGTGTAGGAGCTGGTCGTGACCCGTGCTGTCAAGTTTATTGCA\n",
    "CGGCTTGCTAAAAGGTACAGTGTAACGTTTCACAAACAAGCGAGACCCATTGTTGGTCTAACGCTATCGTACTTGATAC\n",
    "CAGCCTGTGACGTCACGCGAAATCGTCTGTATAACTAGTTCTTCCCCGACTGCCACGGTATCCCAAAATTACATACTGA\n",
    "CAGGACCTCTTCCATATTCATCAGGACTCGACGAAGCGCGCCCCGTGTAGTACGCGAAAATTATACCGTCCGTAGGTAC\n",
    "\n",
    "```\n",
    "Now picture this 2 million more times. "
   ]
  },
  {
   "cell_type": "markdown",
   "metadata": {
    "slideshow": {
     "slide_type": "notes"
    }
   },
   "source": [
    "If you wrapped it in PEP 8-guideline adhering lines of 79 characters, it would still be over 40 million lines (although granted DNA is about as un-Pythonic of code as you can get). And we're not even all that special when it comes to genome length. A lot of plants have us beat, actually, with _paris japonica_ being a [top contender](http://blogs.biomedcentral.com/on-biology/2014/03/20/worlds-largest-sequenced-genome-unlocking-the-loblolly-pine/) for longest genome at 150 billion base pairs.\n",
    "\n",
    "So what does all of that code even do? Well, most of it doesn't appear to \"do\" much. (How much code in your codebase is like that? Although I'd be willing to bet there's a lot of it that we just don't understand what it does yet) But we'll stick with the ~1.5% of it that we have a pretty good idea about."
   ]
  },
  {
   "cell_type": "markdown",
   "metadata": {
    "slideshow": {
     "slide_type": "subslide"
    }
   },
   "source": [
    "![central_dogma](images/Central_Dogma_of_Molecular_Biochemistry_with_Enzymes.jpg)\n",
    "https://en.wikipedia.org/wiki/Central_dogma_of_molecular_biology"
   ]
  },
  {
   "cell_type": "markdown",
   "metadata": {
    "slideshow": {
     "slide_type": "notes"
    }
   },
   "source": [
    "It's time to learn something called \"The Central Dogma of Molecular Biology,\" since that's a lot cooler-sounding than \"what DNA does.\" Don't worry, we'll keep to the very basics. There are two steps, \"transcription\" and \"translation.\" Transcription basically involves making a copy of a chunk of DNA, except that you only copy one side of it (it looks like half a strand of DNA). We call this copy RNA. Translation involves reading the pattern of the DNA into protein. What is protein? Basically most of what we're made of is either protein or is made by proteins (excluding water, of course). So that's basically how your source code works: your DNA tells your body how to make proteins, which are like parts of a machine. These little parts make little machines, which are part of bigger machines, etc. etc. until all the parts fit together to make you! (But how do the parts know how to fit together you ask? Umm...great question...that we're not going to cover today. Next slide!)"
   ]
  },
  {
   "cell_type": "markdown",
   "metadata": {
    "slideshow": {
     "slide_type": "slide"
    }
   },
   "source": [
    "## Sequencing DNA"
   ]
  },
  {
   "cell_type": "code",
   "execution_count": 2,
   "metadata": {
    "slideshow": {
     "slide_type": "fragment"
    }
   },
   "outputs": [
    {
     "data": {
      "image/jpeg": "[encoded data removed]",
      "text/html": [
       "\n",
       "        <iframe\n",
       "            width=\"400\"\n",
       "            height=\"300\"\n",
       "            src=\"https://www.youtube.com/embed/fCd6B5HRaZ8?start=135\"\n",
       "            frameborder=\"0\"\n",
       "            allowfullscreen\n",
       "        ></iframe>\n",
       "        "
      ],
      "text/plain": [
       "<IPython.lib.display.YouTubeVideo at 0x7f00bbbe56a0>"
      ]
     },
     "execution_count": 2,
     "metadata": {},
     "output_type": "execute_result"
    }
   ],
   "source": [
    "YouTubeVideo('fCd6B5HRaZ8', start=135)"
   ]
  },
  {
   "cell_type": "markdown",
   "metadata": {
    "slideshow": {
     "slide_type": "notes"
    }
   },
   "source": [
    "Ok, now you know something about DNA, so we can start getting into some of the fun puzzles that this leads to. So how do we find out what someone's DNA sequence is? There are several methods, including some newer ones that I'm really excited about, but we'll stick with the most popular here: Illuimina's sequencing by synthesis. It's probably so popular because it's fast and keeps getting cheaper. The reason it's so fast is because it's parallelized. It works by breaking the DNA up into little chunks and then looking at all the chunks at the same time. Basically you have a whole bunch of these fragments on a slide and then flood the slide with a whole bunch of one base (say A). The base is modified slightly so that it fluoresces a certain color when illuminated by a certain wavelength and also so that no other bases can attach after it. Then the excess bases are washed off, the slide is imaged to see which fragments got a base added, and then the fluorescent part of the new addition as well as the part that blocks the next base are removed and the process is repeated with another base (say C). Repeat until you've got most of the fragments."
   ]
  },
  {
   "cell_type": "markdown",
   "metadata": {
    "slideshow": {
     "slide_type": "slide"
    }
   },
   "source": [
    "## Sequence Alignment\n",
    "Now things start to get fun"
   ]
  },
  {
   "cell_type": "markdown",
   "metadata": {
    "slideshow": {
     "slide_type": "fragment"
    }
   },
   "source": [
    "That's a nice-looking lake...\n",
    "![lake](images/lake.jpg)"
   ]
  },
  {
   "cell_type": "markdown",
   "metadata": {
    "slideshow": {
     "slide_type": "subslide"
    }
   },
   "source": [
    "Until now!\n",
    "![lake_puzzle](images/lake_puzzle.png)"
   ]
  },
  {
   "cell_type": "markdown",
   "metadata": {
    "slideshow": {
     "slide_type": "notes"
    }
   },
   "source": [
    "So now you've got a whole bunch of little pieces of DNA that you have to match up to a reference sequence. A quick analogy (credit for the analogy/pics to Aaron Quinlan, who has [all his slides](https://github.com/quinlan-lab/applied-computational-genomics) for a course in applied computational genomics freely available). What makes this lake puzzle so hard? So much blue and white! So we need to find a way to determine how well the piece we have actually matches the picture at that point. We'll call this aligning sequences."
   ]
  },
  {
   "cell_type": "markdown",
   "metadata": {
    "slideshow": {
     "slide_type": "slide"
    }
   },
   "source": [
    "### First step: Assign scores\n",
    "If a base matches with itself, it gets a score of one. Otherwise it gets a score of zero.\n",
    "\n",
    "||A|C|G|T|\n",
    "|-|-|-|-|-|\n",
    "|__A__|1|0|0|0|\n",
    "|__C__|0|1|0|0|\n",
    "|__G__|0|0|1|0|\n",
    "|__T__|0|0|0|1|\n",
    "\n",
    "So these two sequences:\n",
    "```\n",
    "AACTGTGGTAC\n",
    "ACTTGTGGAAC\n",
    "10011111011\n",
    "```\n",
    "have an alignment score of eight."
   ]
  },
  {
   "cell_type": "markdown",
   "metadata": {
    "slideshow": {
     "slide_type": "notes"
    }
   },
   "source": [
    "This is going to seem like complete overkill at first, but you'll understand the advantages to doing it this way after a bit. Each base that aligns with itself gets a score of one, any other alignment is zero. But what if these are long segments, could we maybe get a better score by shifting one in reference to another? That's a valid question, but before we can tackle that, I need to introduce you to another unfortunate aspect of sequencing..."
   ]
  },
  {
   "cell_type": "markdown",
   "metadata": {
    "slideshow": {
     "slide_type": "slide"
    }
   },
   "source": [
    "### What about gaps?\n",
    "Yes, unfortunately there are going to be gaps.\n",
    "\n",
    "We'll add a \"gap penalty\" of -3.\n",
    "\n",
    "So the score for this alignment:\n",
    "```\n",
    "ACTACA-ACGTTGAC\n",
    "A-TAGAAACGCT-AC\n",
    "1 1101 11101 11\n",
    "-3   -3    -3\n",
    "```\n",
    "is just one\n"
   ]
  },
  {
   "cell_type": "markdown",
   "metadata": {
    "slideshow": {
     "slide_type": "notes"
    }
   },
   "source": [
    "Sequencing DNA is great, but it's also kind of messy. You may end up with extra bases or missing bases in your sequences. Also, people don't all have the same DNA (unless you're identical twins!) so you may have bases that are actually missing or extra with respect to the \"reference\" sequence. But, gaps are problematic because when they're in a place that codes for a protein (remember earlier?) they are pretty good at making the protein not work. So we want to introduce gaps only when it's a lot better than the alternative. For now we'll have a \"gap penalty\" of -3."
   ]
  },
  {
   "cell_type": "markdown",
   "metadata": {
    "slideshow": {
     "slide_type": "slide"
    }
   },
   "source": [
    "### Scoring matrix\n",
    "\n",
    "||-|A|C|G|T|T|T|G|T|C|G|C|\n",
    "|-|\n",
    "|__-__|0|-3|-6|-9|-12|-15|-18|-21|-24|-27|-30|-33|\n",
    "|__A__|-3||||||||||||\n",
    "|__C__|-6||||||||||||\n",
    "|__T__|-9||||||||||||\n",
    "|__T__|-12||||||||||||\n",
    "|__T__|-15||||||||||||\n",
    "|__C__|-18||||||||||||\n",
    "|__T__|-21||||||||||||\n",
    "|__G__|-24||||||||||||\n",
    "|__C__|-27||||||||||||\n",
    "\n",
    "$$\n",
    "S_{m,n}=\\left\\{\n",
    "  \\begin{array}{ll}\n",
    "    S_{m-1,n} + gap\\\\\n",
    "    S_{m,n-1} + gap\\\\\n",
    "    S_{m-1,n-1} + B(a,b)\\\\\n",
    "  \\end{array}\n",
    "\\right.\n",
    "$$"
   ]
  },
  {
   "cell_type": "markdown",
   "metadata": {
    "slideshow": {
     "slide_type": "subslide"
    }
   },
   "source": [
    "||-|A|C|G|T|T|T|G|T|C|G|C|\n",
    "|-|\n",
    "|__-__|0|-3|-6|-9|-12|-15|-18|-21|-24|-27|-30|-33|\n",
    "|__A__|-3|1|-2|-5|-8|-11|-14|-17|-20|-23|-26|-29|\n",
    "|__C__|-6||||||||||||\n",
    "|__T__|-9||||||||||||\n",
    "|__T__|-12||||||||||||\n",
    "|__T__|-15||||||||||||\n",
    "|__C__|-18||||||||||||\n",
    "|__T__|-21||||||||||||\n",
    "|__G__|-24||||||||||||\n",
    "|__C__|-27||||||||||||"
   ]
  },
  {
   "cell_type": "markdown",
   "metadata": {
    "slideshow": {
     "slide_type": "fragment"
    }
   },
   "source": [
    "We need to keep track of where that score came from."
   ]
  },
  {
   "cell_type": "markdown",
   "metadata": {
    "slideshow": {
     "slide_type": "subslide"
    }
   },
   "source": [
    "||-|A|C|G|T|T|T|G|T|C|G|C|\n",
    "|-|\n",
    "|__-__|0|←-3|←-6|←-9|←-12|←-15|←-18|←-21|←-24|←-27|←-30|←-33|\n",
    "|__A__|↑-3|↖1|←-2|←-5|←-8|←-11|←-14|←-17|←-20|←-23|←-26|←-29|\n",
    "|__C__|↑-6||||||||||||\n",
    "|__T__|↑-9||||||||||||\n",
    "|__T__|↑-12||||||||||||\n",
    "|__T__|↑-15||||||||||||\n",
    "|__C__|↑-18||||||||||||\n",
    "|__T__|↑-21||||||||||||\n",
    "|__G__|↑-24||||||||||||\n",
    "|__C__|↑-27||||||||||||"
   ]
  },
  {
   "cell_type": "markdown",
   "metadata": {
    "slideshow": {
     "slide_type": "subslide"
    }
   },
   "source": [
    "||-|A|C|G|T|T|T|G|T|C|G|C|\n",
    "|-|\n",
    "|__-__|0|←-3|←-6|←-9|←-12|←-15|←-18|←-21|←-24|←-27|←-30|←-33|\n",
    "|__A__|↑-3|↖1|←-2|←-5|←-8|←-11|←-14|←-17|←-20|←-23|←-26|←-29|\n",
    "|__C__|↑-6|↑-2|↖2|←1|←-4|←-7|←-10|←-13|←-16|↖-19|←-22|↖-25|\n",
    "|__T__|↑-9|↑-5|↑-1|↖2|↖0|←-3|←-6|←-9|←-12|←-15|←-18|←-21|\n",
    "|__T__|↑-12|↑-8|↑-4|↑-1|↖3|↖1|←-2|←-5|↖-8|←-11|←-14|←-17|\n",
    "|__T__|↑-15|↑-11|↑-7|↖-4|↑0|↖4|↖2|←-1|↖-4|←-7|←-10|←-13|\n",
    "|__C__|↑-18|↑-14|↖-10|↖-7|↑-3|↑1|↖4|↖2|↖-1|↖-3|←-6|←-9|\n",
    "|__T__|↑-21|↑-17|↑-13|↑-10|↑-6|↑-2|↖2|↖4|↖3|←0|↖-3|←-6|\n",
    "|__G__|↑-24|↑-20|↑-16|↖-12|↑-9|↑-5|↑-1|↖3|↖4|↖3|↖1|←-2|\n",
    "|__C__|↑-27|↑-23|↖-19|↑-15|↖-12|↑-8|↑-4|↑0|↖3|↖5|↖3|↖2|\n",
    "\n",
    "Now just follow the arrows from that bottom-right corner back to the top-left zero.\n",
    "```\n",
    "ACGTTTGTCGC\n",
    "|| ||| | ||\n",
    "AC-TTTCT-GC\n",
    "\n",
    "```"
   ]
  },
  {
   "cell_type": "markdown",
   "metadata": {
    "slideshow": {
     "slide_type": "notes"
    }
   },
   "source": [
    "So how do we keep track of where we actually want gaps? We will use a scoring matrix. We start out with one sequence at the top and one on the side with an extra space added at the beginning of each. The two spaces align with a score of zero and we start form there. Each cell gets filled in with whatever ends up the highest of three possibilities:\n",
    "1. The score above plus the gap penalty (remember the gap penalty is negative)\n",
    "2. The score to the left plus the gap penalty\n",
    "3. The score to the upper left plus the alignment score\n",
    "\n",
    "We can fill in the top and left columns right away since they don't have a score to their upper-left, so their only possible score is the gap penalty.\n",
    "\n",
    "But our choice affects the score of everything down and to the right, so besides just the score, we need to keep track of where that score came from.\n",
    "\n",
    "Once it's all filled out, just follow the arrows from the bottom-right corner to the top-left zero. Every time you go straight up, it's a gap in the left sequence. Every time you go left it's a gap in the top sequence. Every time you go up-left, the two bases align."
   ]
  },
  {
   "cell_type": "markdown",
   "metadata": {
    "slideshow": {
     "slide_type": "slide"
    }
   },
   "source": [
    "### Let's code this!\n",
    "See _Python for Bioinformatics_ for the inspiration for this demo.\n",
    "\n",
    "Here is the \"substitution matrix\" and its corresponding \"alphabet\":"
   ]
  },
  {
   "cell_type": "code",
   "execution_count": 3,
   "metadata": {
    "slideshow": {
     "slide_type": "fragment"
    }
   },
   "outputs": [],
   "source": [
    "dna_sub_mat = np.array(\n",
    "    [[ 1, 0, 0, 0],\n",
    "     [ 0, 1, 0, 0],\n",
    "     [ 0, 0, 1, 0],\n",
    "     [ 0, 0, 0, 1]])\n",
    "\n",
    "dbet = 'ACGT'"
   ]
  },
  {
   "cell_type": "markdown",
   "metadata": {
    "slideshow": {
     "slide_type": "notes"
    }
   },
   "source": [
    "Same as we defined above, with `dbet` being the \"dna alphabet\" used for this matrix (four-letter alphabet, could be in a different order, this is just the one we chose)"
   ]
  },
  {
   "cell_type": "markdown",
   "metadata": {
    "slideshow": {
     "slide_type": "subslide"
    }
   },
   "source": [
    "And here are we calculate the scores and arrows as separate matrices"
   ]
  },
  {
   "cell_type": "code",
   "execution_count": 4,
   "metadata": {
    "collapsed": true,
    "slideshow": {
     "slide_type": "fragment"
    }
   },
   "outputs": [],
   "source": [
    "def nw_alignment(sub_mat, abet, seq1, seq2, gap=-8):\n",
    "    # Get the lengths of the sequences\n",
    "    seq1_len, seq2_len = len(seq1), len(seq2)\n",
    "    # Create the scoring and arrow matrices\n",
    "    score_mat = np.zeros((seq1_len+1, seq2_len+1), int)\n",
    "    arrow_mat = np.zeros((seq1_len+1, seq2_len+1), int)\n",
    "    # Fill first column and row of score matrix with scores based on gap penalty\n",
    "    score_mat[0] = np.arange(seq2_len+1) * gap\n",
    "    score_mat[:,0] = np.arange(seq1_len+1) * gap\n",
    "    # Fill top row of arrow matrix with ones (left arrow)\n",
    "    arrow_mat[0] = np.ones(seq2_len+1)\n",
    "    for seq1_pos, seq1_letter in enumerate(seq1):\n",
    "        for seq2_pos, seq2_letter in enumerate(seq2):\n",
    "            f = np.zeros(3)\n",
    "            # Cell above + gap penalty\n",
    "            f[0] = score_mat[seq1_pos,seq2_pos+1] + gap\n",
    "            # Cell to left + gap penalty\n",
    "            f[1] = score_mat[seq1_pos+1,seq2_pos] + gap\n",
    "            n1 = abet.index(seq1_letter)\n",
    "            n2 = abet.index(seq2_letter)\n",
    "            # Cell to upper-left + alignment score\n",
    "            f[2] = score_mat[seq1_pos,seq2_pos] + sub_mat[n1,n2]\n",
    "            score_mat[seq1_pos+1, seq2_pos+1] = f.max()\n",
    "            arrow_mat[seq1_pos+1, seq2_pos+1] = f.argmax()\n",
    "    return score_mat, arrow_mat"
   ]
  },
  {
   "cell_type": "markdown",
   "metadata": {
    "slideshow": {
     "slide_type": "notes"
    }
   },
   "source": [
    "I'm calling this `nw_align` after the Needleman-Wunsch algorithm. It's hard to put score and directional information in just one matrix, so we make two matrices. We start with a matrix of zeros for each and then fill them in concurrently as we run through the possibilities."
   ]
  },
  {
   "cell_type": "markdown",
   "metadata": {
    "slideshow": {
     "slide_type": "subslide"
    }
   },
   "source": [
    "What does our result look like?"
   ]
  },
  {
   "cell_type": "code",
   "execution_count": 5,
   "metadata": {
    "scrolled": true,
    "slideshow": {
     "slide_type": "fragment"
    }
   },
   "outputs": [
    {
     "name": "stdout",
     "output_type": "stream",
     "text": [
      "[[  0  -3  -6  -9 -12 -15 -18 -21 -24 -27 -30 -33]\n",
      " [ -3   1  -2  -5  -8 -11 -14 -17 -20 -23 -26 -29]\n",
      " [ -6  -2   2  -1  -4  -7 -10 -13 -16 -19 -22 -25]\n",
      " [ -9  -5  -1   2   0  -3  -6  -9 -12 -15 -18 -21]\n",
      " [-12  -8  -4  -1   3   1  -2  -5  -8 -11 -14 -17]\n",
      " [-15 -11  -7  -4   0   3   1  -2  -5  -7 -10 -13]\n",
      " [-18 -14 -10  -7  -3   1   4   1  -1  -4  -7 -10]\n",
      " [-21 -17 -13  -9  -6  -2   1   5   2  -1  -3  -6]\n",
      " [-24 -20 -16 -12  -9  -5  -2   2   5   3   0  -2]]\n",
      "[[1 1 1 1 1 1 1 1 1 1 1 1]\n",
      " [0 2 1 1 1 1 1 1 1 1 1 1]\n",
      " [0 0 2 1 1 1 1 1 1 1 1 1]\n",
      " [0 0 0 2 2 1 1 1 1 1 1 1]\n",
      " [0 0 0 0 2 2 1 1 1 1 1 1]\n",
      " [0 0 0 0 0 2 2 1 1 2 1 1]\n",
      " [0 0 0 0 0 2 2 1 2 1 1 1]\n",
      " [0 0 0 2 0 0 0 2 1 1 2 1]\n",
      " [0 0 0 0 0 0 0 0 2 2 1 2]]\n"
     ]
    }
   ],
   "source": [
    "s1 = 'ACTTCTGC'\n",
    "\n",
    "s2 = 'ACGTTTGTCGC'\n",
    "\n",
    "score_mat, arrow_mat = nw_alignment(dna_sub_mat, dbet, s1, s2, gap=-3)\n",
    "print(score_mat)\n",
    "print(arrow_mat)"
   ]
  },
  {
   "cell_type": "markdown",
   "metadata": {
    "slideshow": {
     "slide_type": "notes"
    }
   },
   "source": [
    "Looks good, but not all that useful by itself."
   ]
  },
  {
   "cell_type": "markdown",
   "metadata": {
    "slideshow": {
     "slide_type": "slide"
    }
   },
   "source": [
    "Now we need a way to get the sequences back out of our scoring matrix:"
   ]
  },
  {
   "cell_type": "code",
   "execution_count": 6,
   "metadata": {
    "slideshow": {
     "slide_type": "fragment"
    }
   },
   "outputs": [],
   "source": [
    "def backtrace(arrow_mat, seq1, seq2):\n",
    "    align1, align2 = '', ''\n",
    "    align1_pos, align2_pos = arrow_mat.shape\n",
    "    align1_pos -= 1\n",
    "    align2_pos -= 1\n",
    "    selected = []\n",
    "    while True:\n",
    "        selected.append((align1_pos, align2_pos))\n",
    "        if arrow_mat[align1_pos, align2_pos] == 0:\n",
    "            # Up arrow, add gap to align2\n",
    "            align1 += seq1[align1_pos-1]\n",
    "            align2 += '-'\n",
    "            align1_pos -= 1\n",
    "        elif arrow_mat[align1_pos, align2_pos] == 1:\n",
    "            # Left arrow, add gap to align2\n",
    "            align1 += '-'\n",
    "            align2 += seq2[align2_pos-1]\n",
    "            align2_pos -= 1\n",
    "        elif arrow_mat[align1_pos, align2_pos] == 2:\n",
    "            # Up-arrow arrow, no gap\n",
    "            align1 += seq1[align1_pos-1]\n",
    "            align2 += seq2[align2_pos-1]\n",
    "            align1_pos -= 1\n",
    "            align2_pos -= 1\n",
    "        if align1_pos==0 and align2_pos==0:\n",
    "            break\n",
    "    # reverse the strings\n",
    "    return align1[::-1], align2[::-1], selected"
   ]
  },
  {
   "cell_type": "code",
   "execution_count": 7,
   "metadata": {
    "slideshow": {
     "slide_type": "subslide"
    }
   },
   "outputs": [
    {
     "name": "stdout",
     "output_type": "stream",
     "text": [
      "AC-TTC-T-GC\n",
      "ACGTTTGTCGC\n"
     ]
    }
   ],
   "source": [
    "a1, a2, selected = backtrace(arrow_mat, s1, s2)\n",
    "print(a1)\n",
    "print(a2)"
   ]
  },
  {
   "cell_type": "markdown",
   "metadata": {
    "slideshow": {
     "slide_type": "slide"
    }
   },
   "source": [
    "Sometimes it's nice to see the scoring matrix, though, so here's a function to visualize it"
   ]
  },
  {
   "cell_type": "code",
   "execution_count": 8,
   "metadata": {
    "scrolled": false,
    "slideshow": {
     "slide_type": "subslide"
    }
   },
   "outputs": [],
   "source": [
    "def visual_scoring_matrix(seq1, seq2, score_mat, arrow_mat):\n",
    "    visual_mat = []\n",
    "    for i, row in enumerate(arrow_mat):\n",
    "        visual_mat_row = []\n",
    "        for j, col in enumerate(row):\n",
    "            if col == 0:\n",
    "                arrow = '↑'\n",
    "            elif col == 1:\n",
    "                arrow = '←'\n",
    "            else:\n",
    "                arrow = '↖'\n",
    "            visual_mat_row.append(arrow + ' ' + str(score_mat[i,j]))\n",
    "        visual_mat.append(visual_mat_row)\n",
    "    visual_mat = np.array(visual_mat, object)\n",
    "\n",
    "    tab = plt.table(\n",
    "        cellText=visual_mat,\n",
    "        rowLabels=['-'] + list(s1),\n",
    "        colLabels=['-'] + list(s2),\n",
    "        loc='center')\n",
    "    tab.scale(2, 3)\n",
    "    tab.set_fontsize(30)\n",
    "    plt.axis('tight')\n",
    "    plt.axis('off')\n",
    "    \n",
    "    align1, align2, selected = backtrace(arrow_mat, seq1, seq2)\n",
    "    for pos in selected:\n",
    "        y, x = pos\n",
    "        tab._cells[(y+1, x)]._text.set_color('green')\n",
    "        tab._cells[(y+1, x)]._text.set_weight(1000)\n",
    "    plt.show()"
   ]
  },
  {
   "cell_type": "code",
   "execution_count": 9,
   "metadata": {
    "slideshow": {
     "slide_type": "subslide"
    }
   },
   "outputs": [
    {
     "data": {
      "image/png": "[encoded data removed]",
      "text/plain": [
       "<matplotlib.figure.Figure at 0x7f0096cc7ac8>"
      ]
     },
     "metadata": {},
     "output_type": "display_data"
    }
   ],
   "source": [
    "visual_scoring_matrix(s1, s2, score_mat, arrow_mat)"
   ]
  },
  {
   "cell_type": "markdown",
   "metadata": {
    "slideshow": {
     "slide_type": "slide"
    }
   },
   "source": [
    "Let's generate some sequences and see how fast this is"
   ]
  },
  {
   "cell_type": "code",
   "execution_count": 10,
   "metadata": {
    "collapsed": true,
    "slideshow": {
     "slide_type": "fragment"
    }
   },
   "outputs": [],
   "source": [
    "def random_dna_seq(length=1000):\n",
    "    seq = [random.choice(dbet) for x in range(length)]\n",
    "    return ''.join(seq)\n",
    "\n",
    "def mutate_dna_seq(seq, chance=1/5):\n",
    "    mut_seq_base = [random.choice(dbet) if random.random() < chance else x for x in seq]\n",
    "    mut_seq_indel = [random.choice(('', x + random.choice(dbet))) if random.random() < chance else x for x in mut_seq_base]\n",
    "    return ''.join(mut_seq_indel)"
   ]
  },
  {
   "cell_type": "code",
   "execution_count": 11,
   "metadata": {
    "slideshow": {
     "slide_type": "fragment"
    }
   },
   "outputs": [
    {
     "name": "stdout",
     "output_type": "stream",
     "text": [
      "AATCTACTTTCCTTAGTCTTCATGTAGCCCCTCGGTCAAGTCCTCTTATCCCTATCGTAAATGCCATCGTGAGTTTAGTTCATGTGCGTTGTGGTAACATGTATACGTATGCGGGAGCTGAGTCTCACGAAAACGAGTTCAAGCATTTCAATGAGTCCAATGTGCTTTATATTGACTGTTCTCAGTCTGTCATATCGCTGCGCCGCCTCTTATCAATGTAGGTAACGGCGTAGAGTGCACACGAATCGTCAAGTTACTCCCATCTCCATTTTTACGCGGTAATATGTCATGCACGCCGATACAGATAAAAGGGGCGTGGACGGGCCACGAATGACTACCCTGTGGGCGTATCGCAAGTTGCGTAAATCCGCTCACGAGTCCCATCGAGCATTCACCCATATGACCAGCCCGATAATTATGGACGTAATATAACCTCCCATTGGGGACGTACGCGACCTCCATTTGTGGAAAGATGGTTCGGTTGCTGACTCAAATGATAAAACTCCTGTACGGCGTTGACACAAACCTCCTTGCCCTGTCTCTATGGCATCCAACGTTGTTCTTCAACTGCGCCGTCTCGTAATGCAGCTATAAGTTCCACCTTGAACCGCGTTCAGCGGTTCTTCTTTCCACTGTGAATTTTAAAAAAGTTTCATCCTCGATGTATAGCGTTCCGACGGGCACTTAAGAAAGGGGCTTCGAGCCGGCCCATCGATAAAGACGATTAAGTACGGTAACGAGGCCCCGGGGGATGTATGTATAGCACGCTACTGCGTGGATGTTCCAGAACATGGGTTCGTAGTCCCGACGCGCTGCCGGCCCCTGTTTTCGTTCTTGCTATCTGAGCGCTTGTTTTCGCGTGTATCAGCTTTATGCACATAATAAAAAGTGATGCAGAGATAAGTTCTTCTAATCTGACAGGGAATAAATGAGTGCCCGATGGACTGGGTCACTTAATGGCATCTGCCTTCCGAGAGTAAAGGTGCCATTTCCACTCTTT\n",
      "TATTATTTCCTCAGTCGTTCTATGTTTCCCCCGCGGTCAAGTCGCTTTAGTGCTATGCGTAAAGGTTACGTGAGTTTATTTAGGCGGTTGGTGGTAACAGTATCGTATTGCGGGAGCTGTAGCTCCACCAAATACGTTCAGCATATACAATGGCCAATTGCTTTTACAGTGGACTTCGCCCAGATGATACATACTCCTGCGCCATCTTATCTATGTGAGACGGCGTGAGTGCGCGACAATCGATCAGAATACTGCATCCCAGTTTACGCTGCATAGTCAGCACGCTGGTAACAGCGAAAAGTGCTATCGACCCCCAGAGATGCATGCCTGTTGGGCGATCATCGCAAGTGCGTAAATCCGCTCACGGGTCCAACGATGACTTCACCTAATATGACTGCGATAAAATATAGGACGAGAAGATCTTAATTGGGGGACGGACGCGAGCCTCGATTTGTGAAAAAATGGGGTTCGTTTGCGGACCCAAAAGATAAGCACACCTTGTACGGTTGGACTCATCCTCACTTGCCTCGTCACGTGGCATACCAACGTTGGTCACTTCAACGCGCCGTAGCCGTCAATGCCTGAATAGTACCATCGTGAATCCTCTTCAAGGTTCTAATCCTTGGGATTTTAAAAAGTTCATGGCTACGAGTAAGGTTCCGCTCGGGCACTTATAGTAGTGTGCTCGAACCGCCATCGAGGAAAGACCCATTAAGTACGGAACGTGGCCCCGGGGGAATGTATATATAGCACGCTAACTGCGTGGCTTTCCAAGCACGCGGTCATAGTTCGCCAGAGGGCTGTTTGCCCTTTTCGTTATACCTGATCTTCGCGCCTGTTTCGCTGCTGTTATCTAGCTTAATTACACTATGATGAAAACGGTGCATGCAGGAGATAGTTCGTTCAAATCGGAGGATCTTCGTGCCGTCATGGGTGCCTTAATGGCTCCGCACTTCAGAGTAAGGCCGGATTTCCTCTAT\n",
      "11.7 s ± 3.06 s per loop (mean ± std. dev. of 7 runs, 1 loop each)\n",
      "852.0 years for the whole genome\n"
     ]
    }
   ],
   "source": [
    "s1 = random_dna_seq()\n",
    "s2 = mutate_dna_seq(s1)\n",
    "print(s1)\n",
    "print(s2)\n",
    "a = %timeit -o nw_alignment(dna_sub_mat, dbet, s1, s2, gap=-3)\n",
    "print('{:.1f} years for the whole genome'.format(a.average * 2300000000 / 60 / 60 / 24 / 365.25))"
   ]
  },
  {
   "cell_type": "markdown",
   "metadata": {
    "slideshow": {
     "slide_type": "notes"
    }
   },
   "source": [
    "If we wanted to shift this one position at a time along the whole genome and check the alignments, how long would it take?\n",
    "\n",
    "That's a long time!"
   ]
  },
  {
   "cell_type": "markdown",
   "metadata": {
    "slideshow": {
     "slide_type": "slide"
    }
   },
   "source": [
    "Let's make it faster! (Just because)"
   ]
  },
  {
   "cell_type": "markdown",
   "metadata": {
    "slideshow": {
     "slide_type": "notes"
    }
   },
   "source": [
    "So in reality, we don't actually want to use this algorithm to align our fragments to the whole genome. It's too slow, and there's no good way to decide which alignment is \"best.\" It's still a good introduction to thinking about these types of problems, though. And since it's actually fairly easy and demonstrates how you can improve your code by understanding your algorithm, we'll do something to make it a bit faster."
   ]
  },
  {
   "cell_type": "markdown",
   "metadata": {
    "slideshow": {
     "slide_type": "fragment"
    }
   },
   "source": [
    "||-|A|C|G|T|T|T|G|T|C|G|C|\n",
    "|-|\n",
    "|__-__|0|←-3|←-6|←-9|←-12|←-15|←-18|←-21|←-24|←-27|←-30|←-33|\n",
    "|__A__|↑-3|↖1|←-2||||||||||\n",
    "|__C__|↑-6|↑-2|||||||||||\n",
    "|__T__|↑-9||||||||||||\n",
    "|__T__|↑-12||||||||||||\n",
    "|__T__|↑-15||||||||||||\n",
    "|__C__|↑-18||||||||||||\n",
    "|__T__|↑-21||||||||||||\n",
    "|__G__|↑-24||||||||||||\n",
    "|__C__|↑-27||||||||||||\n",
    "\n",
    "We can't calculate a whole row or column at a time because the values depend on those in the same row/column. But what about diagonals?"
   ]
  },
  {
   "cell_type": "markdown",
   "metadata": {
    "slideshow": {
     "slide_type": "notes"
    }
   },
   "source": [
    "If you look at the diagonals, you know the values above and to the left, so you have everything you need to calculate your score."
   ]
  },
  {
   "cell_type": "markdown",
   "metadata": {
    "slideshow": {
     "slide_type": "slide"
    }
   },
   "source": [
    "We'll \"get rid of\" our nested loop (really just abstract it into a faster numpy \"loop\")"
   ]
  },
  {
   "cell_type": "markdown",
   "metadata": {
    "slideshow": {
     "slide_type": "fragment"
    }
   },
   "source": [
    "This is going to take a couple more steps, but it will be worth it in the end.\n",
    "\n",
    "First we pre-calculate the \"upper-left score\" for each location."
   ]
  },
  {
   "cell_type": "code",
   "execution_count": 12,
   "metadata": {
    "slideshow": {
     "slide_type": "fragment"
    }
   },
   "outputs": [
    {
     "data": {
      "text/plain": [
       "array([[0, 0, 0, 0, 0, 0, 0, 0, 0, 0, 0, 0, 0, 0, 0],\n",
       "       [0, 1, 1, 0, 0, 0, 0, 1, 1, 1, 1, 1, 1, 1, 1],\n",
       "       [0, 1, 1, 0, 0, 0, 0, 1, 1, 1, 1, 1, 1, 1, 1],\n",
       "       [0, 0, 0, 0, 1, 0, 0, 0, 0, 0, 0, 0, 0, 0, 0],\n",
       "       [0, 0, 0, 1, 0, 0, 0, 0, 0, 0, 0, 0, 0, 0, 0],\n",
       "       [0, 0, 0, 0, 0, 1, 1, 0, 0, 0, 0, 0, 0, 0, 0],\n",
       "       [0, 0, 0, 0, 0, 1, 1, 0, 0, 0, 0, 0, 0, 0, 0],\n",
       "       [0, 1, 1, 0, 0, 0, 0, 1, 1, 1, 1, 1, 1, 1, 1]])"
      ]
     },
     "execution_count": 12,
     "metadata": {},
     "output_type": "execute_result"
    }
   ],
   "source": [
    "def sub_values(sub_mat, abet, seq1, seq2):\n",
    "    # convert the sequences to numbers\n",
    "    seq1_ind = [abet.index(i) for i in seq1]\n",
    "    seq2_ind = [abet.index(i) for i in seq2]\n",
    "    sub_vals = np.array([[0] * (len(seq2)+1)] + [[0] + [sub_mat[y, x] for x in seq2_ind] for y in seq1_ind], int)\n",
    "    return sub_vals\n",
    "\n",
    "sub_values(dna_sub_mat, dbet, 'AACGTTA', 'AAGCTTAAAAAAAA')"
   ]
  },
  {
   "cell_type": "markdown",
   "metadata": {
    "slideshow": {
     "slide_type": "subslide"
    }
   },
   "source": [
    "Then we get a list of all the diagonals in the matrix."
   ]
  },
  {
   "cell_type": "code",
   "execution_count": 13,
   "metadata": {
    "slideshow": {
     "slide_type": "fragment"
    }
   },
   "outputs": [
    {
     "data": {
      "text/plain": [
       "[[array([1]), array([1])],\n",
       " [array([2, 1]), array([1, 2])],\n",
       " [array([3, 2, 1]), array([1, 2, 3])],\n",
       " [array([4, 3, 2]), array([1, 2, 3])],\n",
       " [array([5, 4, 3]), array([1, 2, 3])],\n",
       " [array([6, 5, 4]), array([1, 2, 3])],\n",
       " [array([6, 5]), array([2, 3])],\n",
       " [array([6]), array([3])]]"
      ]
     },
     "execution_count": 13,
     "metadata": {},
     "output_type": "execute_result"
    }
   ],
   "source": [
    "def diags(l1, l2):\n",
    "    ys = np.array([np.arange(l1) + 1 for i in np.arange(l2)])\n",
    "    xs = np.array([np.arange(l2) + 1 for i in np.arange(l1)])\n",
    "    diag_ys = [np.flip(ys.diagonal(i), 0) for i in range(1-l2, l1)]\n",
    "    diag_xs = [xs.diagonal(i) for i in range(1-l1, l2)]\n",
    "    index_list = []\n",
    "    for y, x in zip(diag_ys, diag_xs):\n",
    "        index_list.append([y, x])\n",
    "    return index_list\n",
    "\n",
    "diags(6, 3)"
   ]
  },
  {
   "cell_type": "markdown",
   "metadata": {
    "slideshow": {
     "slide_type": "subslide"
    }
   },
   "source": [
    "And here's the actual function. It takes the same arguments and produces the same matrices."
   ]
  },
  {
   "cell_type": "code",
   "execution_count": 14,
   "metadata": {
    "slideshow": {
     "slide_type": "subslide"
    }
   },
   "outputs": [
    {
     "data": {
      "text/plain": [
       "(array([[    0,    -8,   -16, ..., -7824, -7832, -7840],\n",
       "        [   -8,     0,    -7, ..., -7815, -7823, -7831],\n",
       "        [  -16,    -8,     1, ..., -7806, -7814, -7822],\n",
       "        ..., \n",
       "        [-7984, -7975, -7966, ...,   321,   328,   337],\n",
       "        [-7992, -7983, -7974, ...,   313,   321,   329],\n",
       "        [-8000, -7991, -7982, ...,   305,   313,   322]]),\n",
       " array([[1, 1, 1, ..., 1, 1, 1],\n",
       "        [0, 2, 2, ..., 1, 1, 1],\n",
       "        [0, 0, 2, ..., 1, 1, 1],\n",
       "        ..., \n",
       "        [0, 0, 0, ..., 2, 0, 2],\n",
       "        [0, 0, 0, ..., 0, 2, 0],\n",
       "        [0, 0, 0, ..., 0, 0, 2]]))"
      ]
     },
     "execution_count": 14,
     "metadata": {},
     "output_type": "execute_result"
    }
   ],
   "source": [
    "def FastNW(sub_mat, abet, seq1, seq2, gap=-8):\n",
    "    sub_vals = sub_values(sub_mat, abet, seq1, seq2)\n",
    "    # Get the lengths of the sequences\n",
    "    seq1_len, seq2_len = len(seq1), len(seq2)\n",
    "    # Create the scoring and arrow matrices\n",
    "    score_mat = np.zeros((seq1_len+1, seq2_len+1), int)\n",
    "    arrow_mat = np.zeros((seq1_len+1, seq2_len+1), int)\n",
    "    # Fill first column and row of score matrix with scores based on gap penalty\n",
    "    score_mat[0] = np.arange(seq2_len+1) * gap\n",
    "    score_mat[:,0] = np.arange(seq1_len+1) * gap\n",
    "    # Fill top row of arrow matrix with ones (left arrow)\n",
    "    arrow_mat[0] = np.ones(seq2_len+1)\n",
    "    # Get the list of diagonals\n",
    "    diag_list = diags(seq1_len, seq2_len)\n",
    "    # fill in the matrix\n",
    "    for diag in diag_list:\n",
    "        # Matrix to hold all three possible scores for every element in the diagonal\n",
    "        f = np.zeros((3, len(diag[0])), float)\n",
    "        # Cell above + gap penalty for every cell in the diagonal\n",
    "        x, y = diag[0]-1, diag[1]\n",
    "        f[0] = score_mat[x, y] + gap\n",
    "        # Cell to the left + gap penalty for every cell in the diagonal\n",
    "        x, y = diag[0], diag[1]-1\n",
    "        f[1] = score_mat[x, y] + gap\n",
    "        # Cell to the upper left + alignment score for every cell in the diagonal\n",
    "        x, y = diag[0]-1, diag[1]-1\n",
    "        f[2] = score_mat[x,y] + sub_vals[diag]\n",
    "        max_score = (f.max(0))\n",
    "        max_score_pos = f.argmax(0)\n",
    "        score_mat[diag] = max_score\n",
    "        arrow_mat[diag] = max_score_pos\n",
    "    return score_mat, arrow_mat\n",
    "\n",
    "FastNW(dna_sub_mat, dbet, s1, s2)"
   ]
  },
  {
   "cell_type": "markdown",
   "metadata": {
    "slideshow": {
     "slide_type": "slide"
    }
   },
   "source": [
    "So how much faster is it?"
   ]
  },
  {
   "cell_type": "code",
   "execution_count": 15,
   "metadata": {
    "slideshow": {
     "slide_type": "fragment"
    }
   },
   "outputs": [
    {
     "name": "stdout",
     "output_type": "stream",
     "text": [
      "9.04 s ± 369 ms per loop (mean ± std. dev. of 7 runs, 1 loop each)\n",
      "658.5 years for the whole genome\n",
      "589 ms ± 2.68 ms per loop (mean ± std. dev. of 7 runs, 1 loop each)\n",
      "43.0 years for the whole genome\n"
     ]
    }
   ],
   "source": [
    "s1 = random_dna_seq()\n",
    "s2 = mutate_dna_seq(s1)\n",
    "a = %timeit -o nw_alignment(dna_sub_mat, dbet, s1, s2)\n",
    "print('{:.1f} years for the whole genome'.format(a.average * 2300000000 / 60 / 60 / 24 / 365.25))\n",
    "a = %timeit -o FastNW(dna_sub_mat, dbet, s1, s2)\n",
    "print('{:.1f} years for the whole genome'.format(a.average * 2300000000 / 60 / 60 / 24 / 365.25))"
   ]
  },
  {
   "cell_type": "markdown",
   "metadata": {
    "slideshow": {
     "slide_type": "slide"
    }
   },
   "source": [
    "## Now why did we use the substitution matrix?"
   ]
  },
  {
   "cell_type": "markdown",
   "metadata": {
    "slideshow": {
     "slide_type": "fragment"
    }
   },
   "source": [
    "Here's how DNA translates to protein:\n",
    "\n",
    "[Wikipedia](https://en.wikipedia.org/wiki/DNA_codon_table)"
   ]
  },
  {
   "cell_type": "markdown",
   "metadata": {
    "slideshow": {
     "slide_type": "subslide"
    }
   },
   "source": [
    "So we can align proteins, too!"
   ]
  },
  {
   "cell_type": "code",
   "execution_count": 16,
   "metadata": {
    "collapsed": true,
    "slideshow": {
     "slide_type": "fragment"
    }
   },
   "outputs": [],
   "source": [
    "blosum50 = np.array(\n",
    "    [[ 5,-2,-1,-2,-1,-1,-1, 0,-2,-1,-2,-1,-1,-3,-1, 1, 0,-3,-2, 0],\n",
    "     [-2, 7,-1,-2,-1, 1, 0,-3, 0,-4,-3, 3,-2,-3,-3,-1,-1,-3,-1,-3],\n",
    "     [-1,-1, 7, 2,-2, 0, 0, 0, 1,-3,-4,-0,-2,-4,-2,-1, 0,-4,-2,-3],\n",
    "     [-2,-2, 2, 8,-4, 0, 2,-1,-1,-4,-4,-1,-4,-5,-1, 0,-1,-5,-3,-4],\n",
    "     [-1,-4,-2,-4,13,-3,-3,-3,-3,-2,-2,-3,-2,-2,-4,-1,-1,-5,-3,-1],\n",
    "     [-1,-1, 0, 0,-3, 7, 2,-2, 1,-3,-2, 2, 0,-4,-1,-0,-1,-1,-1,-3],\n",
    "     [-1, 0, 0, 2,-3, 2, 6,-3, 0,-4,-3, 1,-2,-3,-1,-1,-1,-3,-2,-3],\n",
    "     [ 0,-3, 0,-1,-3,-2,-3, 8,-2,-4,-4,-2,-3,-4,-2, 0,-2,-3,-3,-4],\n",
    "     [-2, 0, 1,-1,-3, 1, 0,-2,10,-4,-3, 0,-1,-1,-2,-1,-2,-3,-1, 4],\n",
    "     [-1,-4,-3,-4,-2,-3,-4,-4,-4, 5, 2,-3, 2, 0,-3,-3,-1,-3,-1, 4],\n",
    "     [-2,-3,-4,-4,-2,-2,-3,-4,-3, 2, 5,-3, 3, 1,-4,-3,-1,-2,-1, 1],\n",
    "     [-1, 3, 0,-1,-3, 2, 1,-2, 0,-3,-3, 6,-2,-4,-1, 0,-1,-3,-2,-3],\n",
    "     [-1,-2,-2,-4,-2, 0,-2,-3,-1, 2, 3,-2, 7, 0,-3,-2,-1,-1, 0, 1],\n",
    "     [-3,-3,-4,-5,-2,-4,-3,-4,-1, 0, 1,-4, 0, 8,-4,-3,-2, 1, 4,-1],\n",
    "     [-1,-3,-2,-1,-4,-1,-1,-2,-2,-3,-4,-1,-3,-4,10,-1,-1,-4,-3,-3],\n",
    "     [ 1,-1, 1, 0,-1, 0,-1, 0,-1,-3,-3, 0,-2,-3,-1, 5, 2,-4,-2,-2],\n",
    "     [ 0,-1, 0,-1,-1,-1,-1,-2,-2,-1,-1,-1,-1,-2,-1, 2, 5,-3,-2, 0],\n",
    "     [-3,-3,-4,-5,-5,-1,-3,-3,-3,-3,-2,-3,-1, 1,-4,-4,-3,15, 2,-3],\n",
    "     [-2,-1,-2,-3,-3,-1,-2,-3, 2,-1,-1,-2, 0, 4,-3,-2,-2, 2, 8,-1],\n",
    "     [ 0,-3,-3,-4,-1,-3,-3,-4,-4, 4, 1,-3, 1,-1,-3,-2, 0,-3,-1, 5]])\n",
    "pbet = 'ARNDCQEGHILKMFPSTWYV'"
   ]
  },
  {
   "cell_type": "code",
   "execution_count": 17,
   "metadata": {
    "slideshow": {
     "slide_type": "subslide"
    }
   },
   "outputs": [
    {
     "data": {
      "image/png": "[encoded data removed]",
      "text/plain": [
       "<matplotlib.figure.Figure at 0x7f0093c93550>"
      ]
     },
     "metadata": {},
     "output_type": "display_data"
    }
   ],
   "source": [
    "s1 = [random.choice(pbet) for _ in range(10)]\n",
    "s2 = [random.choice(pbet) if random.random() < .25 else x for x in s1] + [random.choice(pbet) for _ in range(10)]\n",
    "score_mat, arrow_mat = FastNW(blosum50, pbet, s1, s2)\n",
    "visual_scoring_matrix(s1, s2, score_mat, arrow_mat)\n"
   ]
  },
  {
   "cell_type": "markdown",
   "metadata": {
    "slideshow": {
     "slide_type": "slide"
    }
   },
   "source": [
    "## Other things we can do with this algorithm:\n",
    "* Local alignment\n",
    "* Affine gap penalties"
   ]
  },
  {
   "cell_type": "markdown",
   "metadata": {
    "slideshow": {
     "slide_type": "slide"
    }
   },
   "source": [
    "## Other useful bioinformatics Python packages:"
   ]
  },
  {
   "cell_type": "code",
   "execution_count": 18,
   "metadata": {
    "slideshow": {
     "slide_type": "fragment"
    }
   },
   "outputs": [
    {
     "name": "stdout",
     "output_type": "stream",
     "text": [
      "853.3953523635864 MiB\n",
      "83257441 bp\n",
      "TGTTATTCTTTTGCGCCTGTTGCTGTCCCTAGGATACCGGAGATACTCAGCCTGTGCTTGCCAAGGGTATACATATGTATTCAAATACGCACATCCTGTAAACAGCTGTGGTGGAAACCCAAGACCAGACTTGTAGAGACCTGGATCTATTTTGCAGGCCACAGTGAAGGGCTGTGTGAGCTTGAGTCCTCTCTGAGCCTCACGTTTTACATCTAAAACATGAGGGGCTGGTCCAACTGGTTTCCAAAAGTCCTTCCAACTGGGACAGCCTGTGGATCTGCCAGTGCTCCAGCTGCACCAGCATGCAGCACATGTGCCCACACGTGTACACACCTGCTTACGCACGGCCACCCACCATGCTGAAGAACCAGCCCTCGGCATCCTTGCAGCTCTTCTCCACCAATGTCTTGTCCTGGTCACGCATCTCATTCAGGATGCAGCTCAGGTTCACTCCAGGCACAGTGTCCATCTTCACACTGACATCCTCATCCACCTGACCT\n"
     ]
    }
   ],
   "source": [
    "from pysam import FastaFile\n",
    "from os.path import getsize\n",
    "\n",
    "print(getsize('Homo_sapiens.GRCh38.dna.primary_assembly.fasta.gz')/1024**2, 'MiB')\n",
    "\n",
    "\n",
    "with FastaFile('Homo_sapiens.GRCh38.dna.primary_assembly.fasta.gz') as myfasta:\n",
    "    chr17len = myfasta.get_reference_length('17')\n",
    "    print(chr17len, 'bp')\n",
    "    seq = myfasta.fetch('17', int(chr17len/2), int(chr17len/2)+500)\n",
    "print(seq)"
   ]
  },
  {
   "cell_type": "code",
   "execution_count": 19,
   "metadata": {
    "slideshow": {
     "slide_type": "fragment"
    }
   },
   "outputs": [
    {
     "name": "stdout",
     "output_type": "stream",
     "text": [
      "203 µs ± 1.11 µs per loop (mean ± std. dev. of 7 runs, 1000 loops each)\n"
     ]
    }
   ],
   "source": [
    "with FastaFile('Homo_sapiens.GRCh38.dna.primary_assembly.fasta.gz') as myfasta:\n",
    "    chr17len = myfasta.get_reference_length('17')\n",
    "    %timeit myfasta.fetch('17', int(chr17len/2), int(chr17len/2)+500)"
   ]
  },
  {
   "cell_type": "code",
   "execution_count": 20,
   "metadata": {
    "slideshow": {
     "slide_type": "slide"
    }
   },
   "outputs": [
    {
     "name": "stdout",
     "output_type": "stream",
     "text": [
      "Seq('ATGGCCATTGTAATGGGCCGCTGAAAGGGTGCCCGATAG', IUPACUnambiguousDNA())\n",
      "Seq('MAIVMGR*KGAR*', HasStopCodon(IUPACProtein(), '*'))\n"
     ]
    }
   ],
   "source": [
    "from Bio.Seq import Seq\n",
    "from Bio.Alphabet import IUPAC\n",
    "coding_dna = Seq(\"ATGGCCATTGTAATGGGCCGCTGAAAGGGTGCCCGATAG\", IUPAC.unambiguous_dna)\n",
    "print(coding_dna.__repr__())\n",
    "print(coding_dna.translate().__repr__())"
   ]
  },
  {
   "cell_type": "markdown",
   "metadata": {
    "slideshow": {
     "slide_type": "slide"
    }
   },
   "source": [
    "## Any questions?"
   ]
  },
  {
   "cell_type": "markdown",
   "metadata": {
    "slideshow": {
     "slide_type": "slide"
    }
   },
   "source": [
    "## Other possible topics:\n",
    "How do you actually get from reads to something usable?\n",
    "![gatk_call_variants_old](images/gatk_call_variants_old.png)\n"
   ]
  },
  {
   "cell_type": "markdown",
   "metadata": {
    "slideshow": {
     "slide_type": "subslide"
    }
   },
   "source": [
    "Why does bioinformatics use flat files and not databases for everything?\n",
    "The best answer I can give is that of Heng Li when talking about Tabix:\n",
    "> It is straightforward to achieve overlap queries using the standard B-tree index (with or without binning) implemented in all SQL databases, or the R-tree index in PostgreSQL and Oracle. But there are still many reasons to use tabix. Firstly, tabix directly works with a lot of widely used TAB-delimited formats such as GFF/GTF and BED. We do not need to design database schema or specialized binary formats. Data do not need to be duplicated in different formats, either. Secondly, tabix works on compressed data files while most SQL databases do not. The GenCode annotation GTF can be compressed down to 4%. Thirdly, tabix is fast. The same indexing algorithm is known to work efficiently for an alignment with a few billion short reads. SQL databases probably cannot easily handle data at this scale. Last but not the least, tabix supports remote data retrieval. One can put the data file and the index at an FTP or HTTP server, and other users or even web services will be able to get a slice without downloading the entire file."
   ]
  },
  {
   "cell_type": "markdown",
   "metadata": {
    "slideshow": {
     "slide_type": "subslide"
    }
   },
   "source": [
    "What things can you do in bioinformatics?\n",
    "* Look at variants - which ones matter?\n",
    "* Assemble genomes for new organisms\n",
    "* Compare genomes of different organisms\n",
    "* Biomarker studies:\n",
    " * Compare gene expression levels across case and control samples, see if you can find significantly different ones. (It's messy. Also, R is better for this than Python (shhh...))\n",
    "* Molecular interaction networks"
   ]
  }
 ],
 "metadata": {
  "anaconda-cloud": {},
  "celltoolbar": "Slideshow",
  "kernelspec": {
   "display_name": "Python 3",
   "language": "python",
   "name": "python3"
  },
  "language_info": {
   "codemirror_mode": {
    "name": "ipython",
    "version": 3
   },
   "file_extension": ".py",
   "mimetype": "text/x-python",
   "name": "python",
   "nbconvert_exporter": "python",
   "pygments_lexer": "ipython3",
   "version": "3.5.4"
  },
  "nbpresent": {
   "slides": {
    "1a878cd3-6859-42a9-acfa-b96c07fa65f7": {
     "id": "1a878cd3-6859-42a9-acfa-b96c07fa65f7",
     "prev": null,
     "regions": {
      "3d4268fa-250f-4344-9516-ff77f4ec0e46": {
       "attrs": {
        "height": 0.4,
        "width": 0.8,
        "x": 0.1,
        "y": 0.5
       },
       "content": {
        "cell": "b0746739-b0f7-4130-8773-2024b6d8858e",
        "part": "whole"
       },
       "id": "3d4268fa-250f-4344-9516-ff77f4ec0e46"
      },
      "867408ce-ca40-4626-97bb-e8a421eadcb8": {
       "attrs": {
        "height": 0.8,
        "width": 0.8,
        "x": 0.1,
        "y": 0.1
       },
       "content": {
        "cell": "dfdc94f4-6768-4140-8109-8ac2e61fcdf4",
        "part": "whole"
       },
       "id": "867408ce-ca40-4626-97bb-e8a421eadcb8"
      },
      "c2dbf2de-6e36-4683-a5ea-dc1cf471d6f2": {
       "attrs": {
        "height": 0.4,
        "width": 0.8,
        "x": 0.1,
        "y": 0.5
       },
       "content": {
        "cell": "2df25111-1de8-447f-b03a-361cc5c97373",
        "part": "whole"
       },
       "id": "c2dbf2de-6e36-4683-a5ea-dc1cf471d6f2"
      }
     }
    },
    "7fd1644c-8a23-4211-8e4e-6b0a84e6198a": {
     "id": "7fd1644c-8a23-4211-8e4e-6b0a84e6198a",
     "prev": "1a878cd3-6859-42a9-acfa-b96c07fa65f7",
     "regions": {
      "3223a531-ef8f-4311-a064-50ac87f65594": {
       "attrs": {
        "height": 0.8,
        "width": 0.8,
        "x": 0.1,
        "y": 0.1
       },
       "content": {
        "cell": "e4dc1f84-5612-4ef5-a45c-35f46c51c136",
        "part": "whole"
       },
       "id": "3223a531-ef8f-4311-a064-50ac87f65594"
      }
     }
    }
   },
   "themes": {
    "default": "1629dac1-1f53-4f1b-8318-e8aaea63fd7a",
    "theme": {}
   }
  }
 },
 "nbformat": 4,
 "nbformat_minor": 1
}
